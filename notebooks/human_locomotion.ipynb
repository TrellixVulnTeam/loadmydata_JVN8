{
 "cells": [
  {
   "cell_type": "markdown",
   "id": "2894dbf6-1c0d-4160-825b-1eca738c8fbb",
   "metadata": {},
   "source": [
    "<a name=\"top\"></a>\n",
    "\n",
    "# Basic usage of the human locomotion data set from `loadmydata`\n",
    "\n",
    "*Last update: April 27, 2021.*\n",
    "\n",
    "This data set consists of 1,020 multivariate gait signals collected with two inertial measurement units, from 230 subjects undergoing a fixed protocol:\n",
    "- standing still,\n",
    "- walking 10 m,\n",
    "- turning around,\n",
    "- walking back,\n",
    "- stopping.\n",
    "\n",
    "In total, there are 8.5 h of gait time series (sampled at 100 Hz). The measured population was composed of healthy subjects as well as patients with neurological or orthopedic disorders. The start and end time stamps of more than 40,000 footsteps are available, as well as a number of contextual information about each trial. This exact data set was used in [1] to design and evaluate a step detection procedure.\n",
    "\n",
    "The data are thoroughly described in [2].\n",
    "\n",
    "> [1] Oudre, L., Barrois-Müller, R., Moreau, T., Truong, C., Vienne-Jumeau, A., Ricard, D., Vayatis, N., & Vidal, P.-P. (2018). Template-based step detection with inertial measurement units. Sensors, 18(11).\n",
    "\n",
    "> [2] Truong, C., Barrois-Müller, R., Moreau, T., Provost, C., Vienne-Jumeau, A., Moreau, A., Vidal, P.-P., Vayatis, N., Buffat, S., Yelnik, A., Ricard, D., & Oudre, L. (2019). A data set for the study of human locomotion with inertial measurements units. Image Processing On Line (IPOL), 9."
   ]
  },
  {
   "cell_type": "markdown",
   "id": "b5c54e64-819c-49e1-b9c0-3249a38f37af",
   "metadata": {},
   "source": [
    "## Setup"
   ]
  },
  {
   "cell_type": "markdown",
   "id": "6a501643-19da-4096-a934-44d145a4799f",
   "metadata": {},
   "source": [
    "We import some functions from the `loadmydata` package:"
   ]
  },
  {
   "cell_type": "code",
   "execution_count": 1,
   "id": "d6df5a79-891d-4ba4-81ad-375e4c5ab99e",
   "metadata": {},
   "outputs": [],
   "source": [
    "from loadmydata.load_human_locomotion import (\n",
    "    load_human_locomotion_dataset,\n",
    "    get_code_list\n",
    ")"
   ]
  },
  {
   "cell_type": "markdown",
   "id": "f799b988-8b44-4e4c-a493-be976b9187ec",
   "metadata": {},
   "source": [
    "We also import some other libraries that will be useful for our analysis:"
   ]
  },
  {
   "cell_type": "code",
   "execution_count": 2,
   "id": "045495ad-fb7e-44ce-bc92-86d40ffe8c3f",
   "metadata": {},
   "outputs": [],
   "source": [
    "import numpy as np\n",
    "import pandas as pd\n",
    "import matplotlib.pyplot as plt\n",
    "plt.rcParams['figure.figsize'] = (15, 5)\n",
    "import seaborn as sns\n",
    "sns.set_theme()"
   ]
  },
  {
   "cell_type": "markdown",
   "id": "c8965043-27a2-4642-a44a-0fcc9675aacd",
   "metadata": {},
   "source": [
    "## Loading the data"
   ]
  },
  {
   "cell_type": "markdown",
   "id": "62cfb18f-3367-4bc0-b20c-ad79068ae445",
   "metadata": {},
   "source": [
    "First, we store all the 1,020 codes, each referencing a multivariate gait signal, in `code_list`:"
   ]
  },
  {
   "cell_type": "code",
   "execution_count": 3,
   "id": "f9992340-223c-4b01-9cde-4db9d6641be3",
   "metadata": {},
   "outputs": [
    {
     "name": "stdout",
     "output_type": "stream",
     "text": [
      "The type of code_list is:\n",
      "    <class 'list'>\n",
      "\n",
      "The length of code_list is:\n",
      "    1020\n",
      "\n",
      "The type of the values of code_list is:\n",
      "    <class 'str'>\n",
      "\n",
      "The first 10 values of code_list are:\n",
      "    ['1-1', '1-2', '1-3', '1-4', '1-5', '2-1', '2-2', '2-3', '3-1', '3-2']\n"
     ]
    }
   ],
   "source": [
    "code_list = get_code_list()\n",
    "\n",
    "print(f'The type of code_list is:\\n    {type(code_list)}')\n",
    "print(f'\\nThe length of code_list is:\\n    {len(code_list)}')\n",
    "print(f'\\nThe type of the values of code_list is:\\n    {type(code_list[0])}')\n",
    "print(f'\\nThe first 10 values of code_list are:\\n    {code_list[0:10]}')"
   ]
  },
  {
   "cell_type": "markdown",
   "id": "63c91880-0aba-4d76-9d6e-cffb8d608ba4",
   "metadata": {},
   "source": [
    "If we wish to focus only on one multivariate gait signal, we select our chosen `code` through its index, for example:"
   ]
  },
  {
   "cell_type": "code",
   "execution_count": 4,
   "id": "c1aa2939-c7b6-406a-be2d-d43a1719f912",
   "metadata": {},
   "outputs": [
    {
     "name": "stdout",
     "output_type": "stream",
     "text": [
      "The code of our chosen multivariate gait signal is:\n",
      "    \"3-2\"\n"
     ]
    }
   ],
   "source": [
    "code = code_list[9]\n",
    "\n",
    "print(f'The code of our chosen multivariate gait signal is:\\n    \"{code}\"')"
   ]
  },
  {
   "cell_type": "markdown",
   "id": "7b592f5a-b598-4d47-a5de-12fbaecd3fa2",
   "metadata": {},
   "source": [
    "Once, we have the `code`, we can load the corresponding multivariate gait signal and store it in `data`:"
   ]
  },
  {
   "cell_type": "code",
   "execution_count": 5,
   "id": "b958e8f0-c4d9-4ace-b101-4e0e7458c6d0",
   "metadata": {},
   "outputs": [],
   "source": [
    "data = load_human_locomotion_dataset(code)"
   ]
  },
  {
   "cell_type": "markdown",
   "id": "248330b9-d56d-43d7-b317-6976b18d3015",
   "metadata": {},
   "source": [
    "*Note*: It will download the data only once for all (even if you restart the kernel of this notebook)."
   ]
  },
  {
   "cell_type": "markdown",
   "id": "8b3bdc3d-289b-455f-a77f-fdbfa62e9600",
   "metadata": {},
   "source": [
    "## Understanding the format of a multivariate gait signal"
   ]
  },
  {
   "cell_type": "markdown",
   "id": "483ecc15-e1b2-4e98-9bc6-d9f671bf0a55",
   "metadata": {},
   "source": [
    "The attributes of `data` are:"
   ]
  },
  {
   "cell_type": "code",
   "execution_count": 6,
   "id": "f23152b9-d332-48a2-b089-d075bb6fe0fc",
   "metadata": {},
   "outputs": [
    {
     "name": "stdout",
     "output_type": "stream",
     "text": [
      "dict_keys(['signal', 'left_steps', 'right_steps', 'metadata', 'description'])\n"
     ]
    }
   ],
   "source": [
    "print(data.keys())"
   ]
  },
  {
   "cell_type": "markdown",
   "id": "b7dc65c3-d58e-4180-b90e-8407ca66d9cd",
   "metadata": {},
   "source": [
    "First of all, let us look into `data.signal` which enables us to extract the multivariate gait signal as a Pandas DataFrame:"
   ]
  },
  {
   "cell_type": "code",
   "execution_count": 7,
   "id": "aeb0f8c4-1ca8-499b-8de7-f7b2d7f857cb",
   "metadata": {},
   "outputs": [
    {
     "name": "stdout",
     "output_type": "stream",
     "text": [
      "Some information about signal:\n",
      "<class 'pandas.core.frame.DataFrame'>\n",
      "RangeIndex: 2075 entries, 0 to 2074\n",
      "Data columns (total 16 columns):\n",
      " #   Column  Non-Null Count  Dtype  \n",
      "---  ------  --------------  -----  \n",
      " 0   LAV     2075 non-null   float64\n",
      " 1   LAX     2075 non-null   float64\n",
      " 2   LAY     2075 non-null   float64\n",
      " 3   LAZ     2075 non-null   float64\n",
      " 4   LRV     2075 non-null   float64\n",
      " 5   LRX     2075 non-null   float64\n",
      " 6   LRY     2075 non-null   float64\n",
      " 7   LRZ     2075 non-null   float64\n",
      " 8   RAV     2075 non-null   float64\n",
      " 9   RAX     2075 non-null   float64\n",
      " 10  RAY     2075 non-null   float64\n",
      " 11  RAZ     2075 non-null   float64\n",
      " 12  RRV     2075 non-null   float64\n",
      " 13  RRX     2075 non-null   float64\n",
      " 14  RRY     2075 non-null   float64\n",
      " 15  RRZ     2075 non-null   float64\n",
      "dtypes: float64(16)\n",
      "memory usage: 259.5 KB\n"
     ]
    },
    {
     "data": {
      "text/plain": [
       "None"
      ]
     },
     "metadata": {},
     "output_type": "display_data"
    },
    {
     "name": "stdout",
     "output_type": "stream",
     "text": [
      "\n",
      "The first 5 rows of signal are:\n"
     ]
    },
    {
     "data": {
      "text/html": [
       "<div>\n",
       "<style scoped>\n",
       "    .dataframe tbody tr th:only-of-type {\n",
       "        vertical-align: middle;\n",
       "    }\n",
       "\n",
       "    .dataframe tbody tr th {\n",
       "        vertical-align: top;\n",
       "    }\n",
       "\n",
       "    .dataframe thead th {\n",
       "        text-align: right;\n",
       "    }\n",
       "</style>\n",
       "<table border=\"1\" class=\"dataframe\">\n",
       "  <thead>\n",
       "    <tr style=\"text-align: right;\">\n",
       "      <th></th>\n",
       "      <th>LAV</th>\n",
       "      <th>LAX</th>\n",
       "      <th>LAY</th>\n",
       "      <th>LAZ</th>\n",
       "      <th>LRV</th>\n",
       "      <th>LRX</th>\n",
       "      <th>LRY</th>\n",
       "      <th>LRZ</th>\n",
       "      <th>RAV</th>\n",
       "      <th>RAX</th>\n",
       "      <th>RAY</th>\n",
       "      <th>RAZ</th>\n",
       "      <th>RRV</th>\n",
       "      <th>RRX</th>\n",
       "      <th>RRY</th>\n",
       "      <th>RRZ</th>\n",
       "    </tr>\n",
       "  </thead>\n",
       "  <tbody>\n",
       "    <tr>\n",
       "      <th>0</th>\n",
       "      <td>-0.001044</td>\n",
       "      <td>-0.007348</td>\n",
       "      <td>-0.005025</td>\n",
       "      <td>0.003626</td>\n",
       "      <td>-1.179313</td>\n",
       "      <td>-1.748553</td>\n",
       "      <td>-3.923271</td>\n",
       "      <td>0.393393</td>\n",
       "      <td>0.003202</td>\n",
       "      <td>-0.019837</td>\n",
       "      <td>0.016119</td>\n",
       "      <td>0.017407</td>\n",
       "      <td>-0.518325</td>\n",
       "      <td>1.136519</td>\n",
       "      <td>-2.786695</td>\n",
       "      <td>-1.748553</td>\n",
       "    </tr>\n",
       "    <tr>\n",
       "      <th>1</th>\n",
       "      <td>-0.000053</td>\n",
       "      <td>-0.003609</td>\n",
       "      <td>-0.010943</td>\n",
       "      <td>0.003958</td>\n",
       "      <td>-0.756476</td>\n",
       "      <td>-1.606459</td>\n",
       "      <td>-3.781178</td>\n",
       "      <td>0.775899</td>\n",
       "      <td>0.002248</td>\n",
       "      <td>-0.018132</td>\n",
       "      <td>0.024442</td>\n",
       "      <td>0.017215</td>\n",
       "      <td>-0.063367</td>\n",
       "      <td>0.491770</td>\n",
       "      <td>-2.426075</td>\n",
       "      <td>-0.830560</td>\n",
       "    </tr>\n",
       "    <tr>\n",
       "      <th>2</th>\n",
       "      <td>0.002816</td>\n",
       "      <td>0.002645</td>\n",
       "      <td>-0.018659</td>\n",
       "      <td>0.005457</td>\n",
       "      <td>-0.649569</td>\n",
       "      <td>-0.874276</td>\n",
       "      <td>-4.316664</td>\n",
       "      <td>0.611976</td>\n",
       "      <td>-0.001815</td>\n",
       "      <td>-0.024816</td>\n",
       "      <td>0.013460</td>\n",
       "      <td>0.013637</td>\n",
       "      <td>0.149127</td>\n",
       "      <td>-0.262300</td>\n",
       "      <td>-3.092712</td>\n",
       "      <td>-0.349733</td>\n",
       "    </tr>\n",
       "    <tr>\n",
       "      <th>3</th>\n",
       "      <td>0.009301</td>\n",
       "      <td>0.005146</td>\n",
       "      <td>-0.014473</td>\n",
       "      <td>0.010732</td>\n",
       "      <td>-0.261601</td>\n",
       "      <td>-0.524543</td>\n",
       "      <td>-3.431502</td>\n",
       "      <td>0.688466</td>\n",
       "      <td>0.003422</td>\n",
       "      <td>-0.016170</td>\n",
       "      <td>-0.001533</td>\n",
       "      <td>0.012084</td>\n",
       "      <td>0.610045</td>\n",
       "      <td>-0.480826</td>\n",
       "      <td>-3.824894</td>\n",
       "      <td>0.131150</td>\n",
       "    </tr>\n",
       "    <tr>\n",
       "      <th>4</th>\n",
       "      <td>0.003331</td>\n",
       "      <td>0.005016</td>\n",
       "      <td>-0.001138</td>\n",
       "      <td>0.001147</td>\n",
       "      <td>-0.125924</td>\n",
       "      <td>0.174867</td>\n",
       "      <td>-2.874128</td>\n",
       "      <td>0.349733</td>\n",
       "      <td>0.002091</td>\n",
       "      <td>-0.006150</td>\n",
       "      <td>-0.010243</td>\n",
       "      <td>0.003663</td>\n",
       "      <td>0.251478</td>\n",
       "      <td>-0.743126</td>\n",
       "      <td>-3.136428</td>\n",
       "      <td>0.000000</td>\n",
       "    </tr>\n",
       "  </tbody>\n",
       "</table>\n",
       "</div>"
      ],
      "text/plain": [
       "        LAV       LAX       LAY       LAZ       LRV       LRX       LRY  \\\n",
       "0 -0.001044 -0.007348 -0.005025  0.003626 -1.179313 -1.748553 -3.923271   \n",
       "1 -0.000053 -0.003609 -0.010943  0.003958 -0.756476 -1.606459 -3.781178   \n",
       "2  0.002816  0.002645 -0.018659  0.005457 -0.649569 -0.874276 -4.316664   \n",
       "3  0.009301  0.005146 -0.014473  0.010732 -0.261601 -0.524543 -3.431502   \n",
       "4  0.003331  0.005016 -0.001138  0.001147 -0.125924  0.174867 -2.874128   \n",
       "\n",
       "        LRZ       RAV       RAX       RAY       RAZ       RRV       RRX  \\\n",
       "0  0.393393  0.003202 -0.019837  0.016119  0.017407 -0.518325  1.136519   \n",
       "1  0.775899  0.002248 -0.018132  0.024442  0.017215 -0.063367  0.491770   \n",
       "2  0.611976 -0.001815 -0.024816  0.013460  0.013637  0.149127 -0.262300   \n",
       "3  0.688466  0.003422 -0.016170 -0.001533  0.012084  0.610045 -0.480826   \n",
       "4  0.349733  0.002091 -0.006150 -0.010243  0.003663  0.251478 -0.743126   \n",
       "\n",
       "        RRY       RRZ  \n",
       "0 -2.786695 -1.748553  \n",
       "1 -2.426075 -0.830560  \n",
       "2 -3.092712 -0.349733  \n",
       "3 -3.824894  0.131150  \n",
       "4 -3.136428  0.000000  "
      ]
     },
     "metadata": {},
     "output_type": "display_data"
    }
   ],
   "source": [
    "signal = data.signal\n",
    "\n",
    "print('Some information about signal:')\n",
    "display(signal.info())\n",
    "\n",
    "print('\\nThe first 5 rows of signal are:')\n",
    "display(signal.head())"
   ]
  },
  {
   "cell_type": "markdown",
   "id": "91ecb1c3-daac-4cd7-868f-cd1a20ce33e7",
   "metadata": {},
   "source": [
    "<mark>Explain what are the features</mark>"
   ]
  },
  {
   "cell_type": "markdown",
   "id": "08a84d3b-468c-450b-afed-1febfc0a7e3e",
   "metadata": {},
   "source": [
    "Now, let us look into `data.left_steps`:"
   ]
  },
  {
   "cell_type": "code",
   "execution_count": 8,
   "id": "57596d24-c7a1-4419-958b-d542e19fc6d2",
   "metadata": {},
   "outputs": [
    {
     "name": "stdout",
     "output_type": "stream",
     "text": [
      "The type of left_steps is:\n",
      "    <class 'numpy.ndarray'>\n",
      "\n",
      "The shape of left_steps is (n_left_steps, 2) and here it is:\n",
      "    (13, 2)\n",
      "\n",
      "Printing left_steps:\n",
      "[[ 573  651]\n",
      " [ 686  754]\n",
      " [ 788  859]\n",
      " [ 889  953]\n",
      " [ 989 1054]\n",
      " [1091 1154]\n",
      " [1203 1274]\n",
      " [1323 1388]\n",
      " [1424 1494]\n",
      " [1529 1591]\n",
      " [1627 1691]\n",
      " [1728 1793]\n",
      " [1830 1898]]\n"
     ]
    }
   ],
   "source": [
    "left_steps = data.left_steps\n",
    "\n",
    "print(f'The type of left_steps is:\\n    {type(left_steps)}')\n",
    "print(f'\\nThe shape of left_steps is (n_left_steps, 2) and here it is:\\n    {np.shape(left_steps)}')\n",
    "print(f'\\nPrinting left_steps:')\n",
    "print(left_steps)"
   ]
  },
  {
   "cell_type": "markdown",
   "id": "a0948509-8472-4f91-96e4-8aedc32020df",
   "metadata": {},
   "source": [
    "For `data.right_steps`, the philosophy is the same as `data.left_steps`:"
   ]
  },
  {
   "cell_type": "code",
   "execution_count": 9,
   "id": "b84788c6-1694-4341-8e9c-90428377bc42",
   "metadata": {},
   "outputs": [
    {
     "name": "stdout",
     "output_type": "stream",
     "text": [
      "The type of right_steps is:\n",
      "    <class 'numpy.ndarray'>\n",
      "\n",
      "The shape of right_steps is (n_right_steps, 2) and here it is:\n",
      "    (14, 2)\n",
      "\n",
      "Printing right_steps:\n",
      "[[ 519  598]\n",
      " [ 631  701]\n",
      " [ 735  800]\n",
      " [ 836  903]\n",
      " [ 940 1002]\n",
      " [1037 1101]\n",
      " [1144 1199]\n",
      " [1267 1334]\n",
      " [1375 1438]\n",
      " [1477 1540]\n",
      " [1578 1640]\n",
      " [1679 1741]\n",
      " [1777 1842]\n",
      " [1886 1945]]\n"
     ]
    }
   ],
   "source": [
    "right_steps = data.right_steps\n",
    "\n",
    "print(f'The type of right_steps is:\\n    {type(right_steps)}')\n",
    "print(f'\\nThe shape of right_steps is (n_right_steps, 2) and here it is:\\n    {np.shape(right_steps)}')\n",
    "print(f'\\nPrinting right_steps:')\n",
    "print(right_steps)"
   ]
  },
  {
   "cell_type": "markdown",
   "id": "6b398e4e-978d-4113-9057-3c50524cdc2d",
   "metadata": {},
   "source": [
    "Now, let us look into `data.metadata` which is a dictionary:"
   ]
  },
  {
   "cell_type": "code",
   "execution_count": 10,
   "id": "d46d6874-1496-44c6-afab-dc4b13bedd70",
   "metadata": {},
   "outputs": [
    {
     "name": "stdout",
     "output_type": "stream",
     "text": [
      "The type of metadata is:\n",
      "    <class 'dict'>\n",
      "\n",
      "The length of metadata is:\n",
      "    14\n",
      "\n",
      "Displaying metadata:\n"
     ]
    },
    {
     "data": {
      "text/plain": [
       "{'Subject': 3,\n",
       " 'Trial': 2,\n",
       " 'Code': '3-2',\n",
       " 'Age': 18,\n",
       " 'Gender': 'M',\n",
       " 'Height': 1.79,\n",
       " 'Weight': 60,\n",
       " 'BMI': 18.7,\n",
       " 'Laterality': 'Right',\n",
       " 'Sensor': 'XSens',\n",
       " 'WalkedDistance': 10,\n",
       " 'WalkingSpeed': 2.7,\n",
       " 'PathologyGroup': 'Healthy',\n",
       " 'IsControl': 'Yes'}"
      ]
     },
     "metadata": {},
     "output_type": "display_data"
    }
   ],
   "source": [
    "metadata = data.metadata\n",
    "\n",
    "print(f'The type of metadata is:\\n    {type(metadata)}')\n",
    "print(f'\\nThe length of metadata is:\\n    {len(metadata)}')\n",
    "print(f'\\nDisplaying metadata:')\n",
    "display(metadata)"
   ]
  },
  {
   "cell_type": "markdown",
   "id": "34208245-a9df-48e9-b6f8-b6ff14639281",
   "metadata": {},
   "source": [
    "*Note*: The code `'3-2'` corresponds to subject `3` and trial `2`. An important metadata feature is `PathologyGroup`.\n",
    "\n",
    "Now, let us look into `data.description`:"
   ]
  },
  {
   "cell_type": "code",
   "execution_count": 11,
   "id": "97d41e73-9ea0-48c8-9dd3-d4ab379ee9f8",
   "metadata": {},
   "outputs": [
    {
     "name": "stdout",
     "output_type": "stream",
     "text": [
      "This data set consists of 1020 multivariate gait signals collected with two inertial measurement units, from 230 subjects undergoing a fixed protocol:\n",
      "        - standing still,\n",
      "        - walking 10 m,\n",
      "        - turning around,\n",
      "        - walking back,\n",
      "        - stopping.\n",
      "\n",
      "In total, there are 8.5 h of gait time series. The measured population was composed of healthy subjects as well as patients with neurological or orthopedic disorders.\n",
      "The start and end time stamps of more than 40,000 footsteps are available, as well as a number of contextual information about each trial. This exact data set was used in [1] to design and evaluate a step detection procedure.\n",
      "\n",
      "The data are thoroughly described in [2].\n",
      "\n",
      "[1] Oudre, L., Barrois-Müller, R., Moreau, T., Truong, C., Vienne-Jumeau, A., Ricard, D., Vayatis, N., & Vidal, P.-P. (2018). Template-based step detection with inertial measurement units. Sensors, 18(11).\n",
      "\n",
      "[2] Truong, C., Barrois-Müller, R., Moreau, T., Provost, C., Vienne-Jumeau, A., Moreau, A., Vidal, P.-P., Vayatis, N., Buffat, S., Yelnik, A., Ricard, D., & Oudre, L. (2019). A data set for the study of human locomotion with inertial measurements units. Image Processing On Line (IPOL), 9.\n",
      "\n"
     ]
    }
   ],
   "source": [
    "print(data.description)"
   ]
  },
  {
   "cell_type": "markdown",
   "id": "7a64f5ba-b1b5-4ef0-bbb0-a20132f769b5",
   "metadata": {},
   "source": [
    "*Back to [top](#top).*\n",
    "\n",
    "---\n",
    "## <a name='eda'>4) A short exploratory data analysis (EDA) on the gait data set</a>"
   ]
  },
  {
   "cell_type": "markdown",
   "id": "8211bfb7-eae9-42fc-9205-d30418ee8509",
   "metadata": {},
   "source": [
    "### 4.1) Overview\n",
    "\n",
    "As a reminder, let us look at the two first rows of our Data Frame:"
   ]
  },
  {
   "cell_type": "code",
   "execution_count": 12,
   "id": "13f49dd8-ff8c-4327-afdc-1242529a0b6d",
   "metadata": {},
   "outputs": [
    {
     "data": {
      "text/html": [
       "<div>\n",
       "<style scoped>\n",
       "    .dataframe tbody tr th:only-of-type {\n",
       "        vertical-align: middle;\n",
       "    }\n",
       "\n",
       "    .dataframe tbody tr th {\n",
       "        vertical-align: top;\n",
       "    }\n",
       "\n",
       "    .dataframe thead th {\n",
       "        text-align: right;\n",
       "    }\n",
       "</style>\n",
       "<table border=\"1\" class=\"dataframe\">\n",
       "  <thead>\n",
       "    <tr style=\"text-align: right;\">\n",
       "      <th></th>\n",
       "      <th>LAV</th>\n",
       "      <th>LAX</th>\n",
       "      <th>LAY</th>\n",
       "      <th>LAZ</th>\n",
       "      <th>LRV</th>\n",
       "      <th>LRX</th>\n",
       "      <th>LRY</th>\n",
       "      <th>LRZ</th>\n",
       "      <th>RAV</th>\n",
       "      <th>RAX</th>\n",
       "      <th>RAY</th>\n",
       "      <th>RAZ</th>\n",
       "      <th>RRV</th>\n",
       "      <th>RRX</th>\n",
       "      <th>RRY</th>\n",
       "      <th>RRZ</th>\n",
       "    </tr>\n",
       "  </thead>\n",
       "  <tbody>\n",
       "    <tr>\n",
       "      <th>0</th>\n",
       "      <td>-0.001044</td>\n",
       "      <td>-0.007348</td>\n",
       "      <td>-0.005025</td>\n",
       "      <td>0.003626</td>\n",
       "      <td>-1.179313</td>\n",
       "      <td>-1.748553</td>\n",
       "      <td>-3.923271</td>\n",
       "      <td>0.393393</td>\n",
       "      <td>0.003202</td>\n",
       "      <td>-0.019837</td>\n",
       "      <td>0.016119</td>\n",
       "      <td>0.017407</td>\n",
       "      <td>-0.518325</td>\n",
       "      <td>1.136519</td>\n",
       "      <td>-2.786695</td>\n",
       "      <td>-1.748553</td>\n",
       "    </tr>\n",
       "    <tr>\n",
       "      <th>1</th>\n",
       "      <td>-0.000053</td>\n",
       "      <td>-0.003609</td>\n",
       "      <td>-0.010943</td>\n",
       "      <td>0.003958</td>\n",
       "      <td>-0.756476</td>\n",
       "      <td>-1.606459</td>\n",
       "      <td>-3.781178</td>\n",
       "      <td>0.775899</td>\n",
       "      <td>0.002248</td>\n",
       "      <td>-0.018132</td>\n",
       "      <td>0.024442</td>\n",
       "      <td>0.017215</td>\n",
       "      <td>-0.063367</td>\n",
       "      <td>0.491770</td>\n",
       "      <td>-2.426075</td>\n",
       "      <td>-0.830560</td>\n",
       "    </tr>\n",
       "  </tbody>\n",
       "</table>\n",
       "</div>"
      ],
      "text/plain": [
       "        LAV       LAX       LAY       LAZ       LRV       LRX       LRY  \\\n",
       "0 -0.001044 -0.007348 -0.005025  0.003626 -1.179313 -1.748553 -3.923271   \n",
       "1 -0.000053 -0.003609 -0.010943  0.003958 -0.756476 -1.606459 -3.781178   \n",
       "\n",
       "        LRZ       RAV       RAX       RAY       RAZ       RRV       RRX  \\\n",
       "0  0.393393  0.003202 -0.019837  0.016119  0.017407 -0.518325  1.136519   \n",
       "1  0.775899  0.002248 -0.018132  0.024442  0.017215 -0.063367  0.491770   \n",
       "\n",
       "        RRY       RRZ  \n",
       "0 -2.786695 -1.748553  \n",
       "1 -2.426075 -0.830560  "
      ]
     },
     "execution_count": 12,
     "metadata": {},
     "output_type": "execute_result"
    }
   ],
   "source": [
    "signal.head(2)"
   ]
  },
  {
   "cell_type": "markdown",
   "id": "50ee231e-ef45-46d0-8c97-4e923d288f78",
   "metadata": {},
   "source": [
    "### 4.2) Preparing the signals data and metadata (and focusing only on one signal feature)"
   ]
  },
  {
   "cell_type": "markdown",
   "id": "876711ac-15a0-4f77-af98-e3b95b1a359d",
   "metadata": {},
   "source": [
    "As we have many signal features, we choose the following one (for example):"
   ]
  },
  {
   "cell_type": "code",
   "execution_count": 13,
   "id": "60f50889-b247-4cda-bed1-5cc1a42619d9",
   "metadata": {},
   "outputs": [],
   "source": [
    "signal_feature = 'LRY'"
   ]
  },
  {
   "cell_type": "markdown",
   "id": "46b19bca-c791-4abb-9970-613ff45acfb3",
   "metadata": {},
   "source": [
    "Now, we extract the features accross all the 1,020 gait signals (keeping only one signal feature but all the metadata features):"
   ]
  },
  {
   "cell_type": "code",
   "execution_count": 14,
   "id": "e6c71899-3196-49b7-be88-0dc383fe596a",
   "metadata": {},
   "outputs": [],
   "source": [
    "X_signal_feature = []\n",
    "y_metadata = []\n",
    "\n",
    "for i in range(len(code_list)):\n",
    "    data_i = load_human_locomotion_dataset(code_list[i])\n",
    "    X_signal_feature.append(data_i.signal[signal_feature].values)\n",
    "    y_metadata.append(data_i.metadata)"
   ]
  },
  {
   "cell_type": "markdown",
   "id": "59dc21f9-b873-4bcf-9fbe-cb3630b153f3",
   "metadata": {},
   "source": [
    "What is `X_signal_feature`?"
   ]
  },
  {
   "cell_type": "code",
   "execution_count": 15,
   "id": "9e4ed160-54ad-4d68-ba5c-51f78b1c8af0",
   "metadata": {},
   "outputs": [
    {
     "name": "stdout",
     "output_type": "stream",
     "text": [
      "The type of X_signal_feature is:\n",
      "    <class 'list'>\n",
      "\n",
      "The type of the values of code_list is:\n",
      "    <class 'numpy.ndarray'>\n",
      "\n",
      "The first X_signal_feature signal is:\n",
      "    [ 0.   1.  -0.3 ...  0.8  0.8  0.3]\n"
     ]
    }
   ],
   "source": [
    "print(f'The type of X_signal_feature is:\\n    {type(X_signal_feature)}')\n",
    "print(f'\\nThe type of the values of code_list is:\\n    {type(X_signal_feature[0])}')\n",
    "print(f'\\nThe first X_signal_feature signal is:\\n    {X_signal_feature[0]}')"
   ]
  },
  {
   "cell_type": "code",
   "execution_count": 17,
   "id": "17022f64-3770-48c6-b90a-5a062a61db64",
   "metadata": {},
   "outputs": [
    {
     "data": {
      "text/html": [
       "<div>\n",
       "<style scoped>\n",
       "    .dataframe tbody tr th:only-of-type {\n",
       "        vertical-align: middle;\n",
       "    }\n",
       "\n",
       "    .dataframe tbody tr th {\n",
       "        vertical-align: top;\n",
       "    }\n",
       "\n",
       "    .dataframe thead th {\n",
       "        text-align: right;\n",
       "    }\n",
       "</style>\n",
       "<table border=\"1\" class=\"dataframe\">\n",
       "  <thead>\n",
       "    <tr style=\"text-align: right;\">\n",
       "      <th></th>\n",
       "      <th>Subject</th>\n",
       "      <th>Trial</th>\n",
       "      <th>Code</th>\n",
       "      <th>Age</th>\n",
       "      <th>Gender</th>\n",
       "      <th>Height</th>\n",
       "      <th>Weight</th>\n",
       "      <th>BMI</th>\n",
       "      <th>Laterality</th>\n",
       "      <th>Sensor</th>\n",
       "      <th>WalkedDistance</th>\n",
       "      <th>WalkingSpeed</th>\n",
       "      <th>PathologyGroup</th>\n",
       "      <th>IsControl</th>\n",
       "    </tr>\n",
       "  </thead>\n",
       "  <tbody>\n",
       "    <tr>\n",
       "      <th>0</th>\n",
       "      <td>1</td>\n",
       "      <td>1</td>\n",
       "      <td>1-1</td>\n",
       "      <td>70</td>\n",
       "      <td>F</td>\n",
       "      <td>1.65</td>\n",
       "      <td>72</td>\n",
       "      <td>26.4</td>\n",
       "      <td>Right</td>\n",
       "      <td>TCon</td>\n",
       "      <td>10.0</td>\n",
       "      <td>1.3</td>\n",
       "      <td>Neurological</td>\n",
       "      <td>No</td>\n",
       "    </tr>\n",
       "    <tr>\n",
       "      <th>1</th>\n",
       "      <td>1</td>\n",
       "      <td>2</td>\n",
       "      <td>1-2</td>\n",
       "      <td>70</td>\n",
       "      <td>F</td>\n",
       "      <td>1.65</td>\n",
       "      <td>72</td>\n",
       "      <td>26.4</td>\n",
       "      <td>Right</td>\n",
       "      <td>TCon</td>\n",
       "      <td>10.0</td>\n",
       "      <td>1.3</td>\n",
       "      <td>Neurological</td>\n",
       "      <td>No</td>\n",
       "    </tr>\n",
       "    <tr>\n",
       "      <th>2</th>\n",
       "      <td>1</td>\n",
       "      <td>3</td>\n",
       "      <td>1-3</td>\n",
       "      <td>70</td>\n",
       "      <td>F</td>\n",
       "      <td>1.65</td>\n",
       "      <td>72</td>\n",
       "      <td>26.4</td>\n",
       "      <td>Right</td>\n",
       "      <td>TCon</td>\n",
       "      <td>10.0</td>\n",
       "      <td>1.4</td>\n",
       "      <td>Neurological</td>\n",
       "      <td>No</td>\n",
       "    </tr>\n",
       "    <tr>\n",
       "      <th>3</th>\n",
       "      <td>1</td>\n",
       "      <td>4</td>\n",
       "      <td>1-4</td>\n",
       "      <td>70</td>\n",
       "      <td>F</td>\n",
       "      <td>1.65</td>\n",
       "      <td>72</td>\n",
       "      <td>26.4</td>\n",
       "      <td>Right</td>\n",
       "      <td>TCon</td>\n",
       "      <td>10.0</td>\n",
       "      <td>1.1</td>\n",
       "      <td>Neurological</td>\n",
       "      <td>No</td>\n",
       "    </tr>\n",
       "    <tr>\n",
       "      <th>4</th>\n",
       "      <td>1</td>\n",
       "      <td>5</td>\n",
       "      <td>1-5</td>\n",
       "      <td>70</td>\n",
       "      <td>F</td>\n",
       "      <td>1.65</td>\n",
       "      <td>72</td>\n",
       "      <td>26.4</td>\n",
       "      <td>Right</td>\n",
       "      <td>TCon</td>\n",
       "      <td>10.0</td>\n",
       "      <td>1.3</td>\n",
       "      <td>Neurological</td>\n",
       "      <td>No</td>\n",
       "    </tr>\n",
       "    <tr>\n",
       "      <th>...</th>\n",
       "      <td>...</td>\n",
       "      <td>...</td>\n",
       "      <td>...</td>\n",
       "      <td>...</td>\n",
       "      <td>...</td>\n",
       "      <td>...</td>\n",
       "      <td>...</td>\n",
       "      <td>...</td>\n",
       "      <td>...</td>\n",
       "      <td>...</td>\n",
       "      <td>...</td>\n",
       "      <td>...</td>\n",
       "      <td>...</td>\n",
       "      <td>...</td>\n",
       "    </tr>\n",
       "    <tr>\n",
       "      <th>1015</th>\n",
       "      <td>230</td>\n",
       "      <td>1</td>\n",
       "      <td>230-1</td>\n",
       "      <td>18</td>\n",
       "      <td>M</td>\n",
       "      <td>1.74</td>\n",
       "      <td>58</td>\n",
       "      <td>19.2</td>\n",
       "      <td>Right</td>\n",
       "      <td>XSens</td>\n",
       "      <td>10.0</td>\n",
       "      <td>2.8</td>\n",
       "      <td>Healthy</td>\n",
       "      <td>Yes</td>\n",
       "    </tr>\n",
       "    <tr>\n",
       "      <th>1016</th>\n",
       "      <td>230</td>\n",
       "      <td>2</td>\n",
       "      <td>230-2</td>\n",
       "      <td>18</td>\n",
       "      <td>M</td>\n",
       "      <td>1.74</td>\n",
       "      <td>58</td>\n",
       "      <td>19.2</td>\n",
       "      <td>Right</td>\n",
       "      <td>XSens</td>\n",
       "      <td>10.0</td>\n",
       "      <td>2.8</td>\n",
       "      <td>Healthy</td>\n",
       "      <td>Yes</td>\n",
       "    </tr>\n",
       "    <tr>\n",
       "      <th>1017</th>\n",
       "      <td>230</td>\n",
       "      <td>3</td>\n",
       "      <td>230-3</td>\n",
       "      <td>18</td>\n",
       "      <td>M</td>\n",
       "      <td>1.74</td>\n",
       "      <td>58</td>\n",
       "      <td>19.2</td>\n",
       "      <td>Right</td>\n",
       "      <td>XSens</td>\n",
       "      <td>10.0</td>\n",
       "      <td>2.8</td>\n",
       "      <td>Healthy</td>\n",
       "      <td>Yes</td>\n",
       "    </tr>\n",
       "    <tr>\n",
       "      <th>1018</th>\n",
       "      <td>230</td>\n",
       "      <td>4</td>\n",
       "      <td>230-4</td>\n",
       "      <td>18</td>\n",
       "      <td>M</td>\n",
       "      <td>1.74</td>\n",
       "      <td>58</td>\n",
       "      <td>19.2</td>\n",
       "      <td>Right</td>\n",
       "      <td>XSens</td>\n",
       "      <td>10.0</td>\n",
       "      <td>2.9</td>\n",
       "      <td>Healthy</td>\n",
       "      <td>Yes</td>\n",
       "    </tr>\n",
       "    <tr>\n",
       "      <th>1019</th>\n",
       "      <td>230</td>\n",
       "      <td>5</td>\n",
       "      <td>230-5</td>\n",
       "      <td>18</td>\n",
       "      <td>M</td>\n",
       "      <td>1.74</td>\n",
       "      <td>58</td>\n",
       "      <td>19.2</td>\n",
       "      <td>Right</td>\n",
       "      <td>XSens</td>\n",
       "      <td>10.0</td>\n",
       "      <td>2.7</td>\n",
       "      <td>Healthy</td>\n",
       "      <td>Yes</td>\n",
       "    </tr>\n",
       "  </tbody>\n",
       "</table>\n",
       "<p>1020 rows × 14 columns</p>\n",
       "</div>"
      ],
      "text/plain": [
       "      Subject  Trial   Code Age Gender Height Weight   BMI Laterality Sensor  \\\n",
       "0           1      1    1-1  70      F   1.65     72  26.4      Right   TCon   \n",
       "1           1      2    1-2  70      F   1.65     72  26.4      Right   TCon   \n",
       "2           1      3    1-3  70      F   1.65     72  26.4      Right   TCon   \n",
       "3           1      4    1-4  70      F   1.65     72  26.4      Right   TCon   \n",
       "4           1      5    1-5  70      F   1.65     72  26.4      Right   TCon   \n",
       "...       ...    ...    ...  ..    ...    ...    ...   ...        ...    ...   \n",
       "1015      230      1  230-1  18      M   1.74     58  19.2      Right  XSens   \n",
       "1016      230      2  230-2  18      M   1.74     58  19.2      Right  XSens   \n",
       "1017      230      3  230-3  18      M   1.74     58  19.2      Right  XSens   \n",
       "1018      230      4  230-4  18      M   1.74     58  19.2      Right  XSens   \n",
       "1019      230      5  230-5  18      M   1.74     58  19.2      Right  XSens   \n",
       "\n",
       "      WalkedDistance  WalkingSpeed PathologyGroup IsControl  \n",
       "0               10.0           1.3   Neurological        No  \n",
       "1               10.0           1.3   Neurological        No  \n",
       "2               10.0           1.4   Neurological        No  \n",
       "3               10.0           1.1   Neurological        No  \n",
       "4               10.0           1.3   Neurological        No  \n",
       "...              ...           ...            ...       ...  \n",
       "1015            10.0           2.8        Healthy       Yes  \n",
       "1016            10.0           2.8        Healthy       Yes  \n",
       "1017            10.0           2.8        Healthy       Yes  \n",
       "1018            10.0           2.9        Healthy       Yes  \n",
       "1019            10.0           2.7        Healthy       Yes  \n",
       "\n",
       "[1020 rows x 14 columns]"
      ]
     },
     "execution_count": 17,
     "metadata": {},
     "output_type": "execute_result"
    }
   ],
   "source": [
    "pd.DataFrame(y_metadata)"
   ]
  },
  {
   "cell_type": "markdown",
   "id": "74089d41-0f0e-4989-b1ac-194e4520b7e1",
   "metadata": {},
   "source": [
    "Now, let us deal with `y_metadata`. We group the metadata of all 1,020 gait signals into a single Pandas DataFrame called `df_metadata`:"
   ]
  },
  {
   "cell_type": "code",
   "execution_count": 18,
   "id": "303b5bbb-c40f-4b1b-bc66-b2a1abca6ca9",
   "metadata": {},
   "outputs": [
    {
     "name": "stdout",
     "output_type": "stream",
     "text": [
      "<class 'pandas.core.frame.DataFrame'>\n",
      "RangeIndex: 1020 entries, 0 to 1019\n",
      "Data columns (total 14 columns):\n",
      " #   Column          Non-Null Count  Dtype \n",
      "---  ------          --------------  ----- \n",
      " 0   Subject         1020 non-null   object\n",
      " 1   Weight          1020 non-null   object\n",
      " 2   Code            1020 non-null   object\n",
      " 3   Sensor          1020 non-null   object\n",
      " 4   Height          1020 non-null   object\n",
      " 5   Gender          1020 non-null   object\n",
      " 6   Age             1020 non-null   object\n",
      " 7   PathologyGroup  1020 non-null   object\n",
      " 8   BMI             1020 non-null   object\n",
      " 9   Trial           1020 non-null   object\n",
      " 10  WalkingSpeed    1020 non-null   object\n",
      " 11  WalkedDistance  1020 non-null   object\n",
      " 12  Laterality      1020 non-null   object\n",
      " 13  IsControl       1020 non-null   object\n",
      "dtypes: object(14)\n",
      "memory usage: 111.7+ KB\n"
     ]
    },
    {
     "data": {
      "text/plain": [
       "None"
      ]
     },
     "metadata": {},
     "output_type": "display_data"
    },
    {
     "name": "stdout",
     "output_type": "stream",
     "text": [
      "\n"
     ]
    },
    {
     "data": {
      "text/html": [
       "<div>\n",
       "<style scoped>\n",
       "    .dataframe tbody tr th:only-of-type {\n",
       "        vertical-align: middle;\n",
       "    }\n",
       "\n",
       "    .dataframe tbody tr th {\n",
       "        vertical-align: top;\n",
       "    }\n",
       "\n",
       "    .dataframe thead th {\n",
       "        text-align: right;\n",
       "    }\n",
       "</style>\n",
       "<table border=\"1\" class=\"dataframe\">\n",
       "  <thead>\n",
       "    <tr style=\"text-align: right;\">\n",
       "      <th></th>\n",
       "      <th>Subject</th>\n",
       "      <th>Weight</th>\n",
       "      <th>Code</th>\n",
       "      <th>Sensor</th>\n",
       "      <th>Height</th>\n",
       "      <th>Gender</th>\n",
       "      <th>Age</th>\n",
       "      <th>PathologyGroup</th>\n",
       "      <th>BMI</th>\n",
       "      <th>Trial</th>\n",
       "      <th>WalkingSpeed</th>\n",
       "      <th>WalkedDistance</th>\n",
       "      <th>Laterality</th>\n",
       "      <th>IsControl</th>\n",
       "    </tr>\n",
       "  </thead>\n",
       "  <tbody>\n",
       "    <tr>\n",
       "      <th>0</th>\n",
       "      <td>1</td>\n",
       "      <td>72</td>\n",
       "      <td>1-1</td>\n",
       "      <td>TCon</td>\n",
       "      <td>1.65</td>\n",
       "      <td>F</td>\n",
       "      <td>70</td>\n",
       "      <td>Neurological</td>\n",
       "      <td>26.4</td>\n",
       "      <td>1</td>\n",
       "      <td>1.3</td>\n",
       "      <td>10</td>\n",
       "      <td>Right</td>\n",
       "      <td>No</td>\n",
       "    </tr>\n",
       "    <tr>\n",
       "      <th>1</th>\n",
       "      <td>1</td>\n",
       "      <td>72</td>\n",
       "      <td>1-2</td>\n",
       "      <td>TCon</td>\n",
       "      <td>1.65</td>\n",
       "      <td>F</td>\n",
       "      <td>70</td>\n",
       "      <td>Neurological</td>\n",
       "      <td>26.4</td>\n",
       "      <td>2</td>\n",
       "      <td>1.3</td>\n",
       "      <td>10</td>\n",
       "      <td>Right</td>\n",
       "      <td>No</td>\n",
       "    </tr>\n",
       "    <tr>\n",
       "      <th>2</th>\n",
       "      <td>1</td>\n",
       "      <td>72</td>\n",
       "      <td>1-3</td>\n",
       "      <td>TCon</td>\n",
       "      <td>1.65</td>\n",
       "      <td>F</td>\n",
       "      <td>70</td>\n",
       "      <td>Neurological</td>\n",
       "      <td>26.4</td>\n",
       "      <td>3</td>\n",
       "      <td>1.4</td>\n",
       "      <td>10</td>\n",
       "      <td>Right</td>\n",
       "      <td>No</td>\n",
       "    </tr>\n",
       "    <tr>\n",
       "      <th>3</th>\n",
       "      <td>1</td>\n",
       "      <td>72</td>\n",
       "      <td>1-4</td>\n",
       "      <td>TCon</td>\n",
       "      <td>1.65</td>\n",
       "      <td>F</td>\n",
       "      <td>70</td>\n",
       "      <td>Neurological</td>\n",
       "      <td>26.4</td>\n",
       "      <td>4</td>\n",
       "      <td>1.1</td>\n",
       "      <td>10</td>\n",
       "      <td>Right</td>\n",
       "      <td>No</td>\n",
       "    </tr>\n",
       "    <tr>\n",
       "      <th>4</th>\n",
       "      <td>1</td>\n",
       "      <td>72</td>\n",
       "      <td>1-5</td>\n",
       "      <td>TCon</td>\n",
       "      <td>1.65</td>\n",
       "      <td>F</td>\n",
       "      <td>70</td>\n",
       "      <td>Neurological</td>\n",
       "      <td>26.4</td>\n",
       "      <td>5</td>\n",
       "      <td>1.3</td>\n",
       "      <td>10</td>\n",
       "      <td>Right</td>\n",
       "      <td>No</td>\n",
       "    </tr>\n",
       "  </tbody>\n",
       "</table>\n",
       "</div>"
      ],
      "text/plain": [
       "  Subject Weight Code Sensor Height Gender Age PathologyGroup   BMI Trial  \\\n",
       "0       1     72  1-1   TCon   1.65      F  70   Neurological  26.4     1   \n",
       "1       1     72  1-2   TCon   1.65      F  70   Neurological  26.4     2   \n",
       "2       1     72  1-3   TCon   1.65      F  70   Neurological  26.4     3   \n",
       "3       1     72  1-4   TCon   1.65      F  70   Neurological  26.4     4   \n",
       "4       1     72  1-5   TCon   1.65      F  70   Neurological  26.4     5   \n",
       "\n",
       "  WalkingSpeed WalkedDistance Laterality IsControl  \n",
       "0          1.3             10      Right        No  \n",
       "1          1.3             10      Right        No  \n",
       "2          1.4             10      Right        No  \n",
       "3          1.1             10      Right        No  \n",
       "4          1.3             10      Right        No  "
      ]
     },
     "metadata": {},
     "output_type": "display_data"
    }
   ],
   "source": [
    "super_dictionary = {}\n",
    "unique_keys_set = set(y_metadata[0].keys())\n",
    "for key in unique_keys_set:\n",
    "    super_dictionary[key] = [dictionary[key] for dictionary in y_metadata]\n",
    "df_metadata = pd.DataFrame.from_dict(super_dictionary, orient='index').T\n",
    "\n",
    "display(df_metadata.info())\n",
    "print('')\n",
    "display(df_metadata.head(5))"
   ]
  },
  {
   "cell_type": "markdown",
   "id": "3b612b11-6211-4306-90e5-1a2b9e771940",
   "metadata": {},
   "source": [
    "<mark>Try to make the super dict directly with Pandas</mark>"
   ]
  },
  {
   "cell_type": "markdown",
   "id": "d7549bc0-0f07-4aec-8c47-db1ef058b697",
   "metadata": {},
   "source": [
    "### 4.3) Looking into some features"
   ]
  },
  {
   "cell_type": "markdown",
   "id": "07dbf2e2-bbb8-4f09-9f41-fd23d9880006",
   "metadata": {},
   "source": [
    "Accross the 1,020 gait signals, the unique values of our `'PathologyGroup'` metadata feature are:"
   ]
  },
  {
   "cell_type": "code",
   "execution_count": 19,
   "id": "47301424-a5f6-421a-8c48-49c441858687",
   "metadata": {},
   "outputs": [
    {
     "data": {
      "text/plain": [
       "array(['Neurological', 'Healthy', 'Orthopedic'], dtype=object)"
      ]
     },
     "execution_count": 19,
     "metadata": {},
     "output_type": "execute_result"
    }
   ],
   "source": [
    "df_metadata['PathologyGroup'].unique()"
   ]
  },
  {
   "cell_type": "markdown",
   "id": "762300d9-4d87-4300-b5e1-84fd7749fb22",
   "metadata": {},
   "source": [
    "We have some non numerical values (`'NC'`) for the `'Height'` feature for example:"
   ]
  },
  {
   "cell_type": "code",
   "execution_count": 20,
   "id": "e73e346e-5f15-4e48-8e62-b7533bdbcc42",
   "metadata": {},
   "outputs": [
    {
     "data": {
      "text/plain": [
       "array([1.65, 1.6, 1.79, 1.7, 1.55, 1.56, 1.84, 1.69, 1.71, 1.78, 1.68,\n",
       "       1.62, 1.77, 1.5, 1.9, 1.85, 1.59, 1.67, 1.81, 1.73, 1.8, 1.75,\n",
       "       1.82, 1.66, 1.86, 1.93, 1.63, 1.83, 1.49, 'NC', 1.52, 1.58, 1.72,\n",
       "       1.76, 1.64, 1.74, 1.46, 1.89, 1.61, 1.57, 1.87, 1.98, 1.88, 1.45,\n",
       "       1.95, 1.91], dtype=object)"
      ]
     },
     "execution_count": 20,
     "metadata": {},
     "output_type": "execute_result"
    }
   ],
   "source": [
    "df_metadata['Height'].unique()"
   ]
  },
  {
   "cell_type": "markdown",
   "id": "cdcbb709-d76c-4074-8a4f-5cad22e4f3c0",
   "metadata": {},
   "source": [
    "<mark>Replace by nan</mark>"
   ]
  },
  {
   "cell_type": "markdown",
   "id": "97149da3-6401-4945-9217-51232841224e",
   "metadata": {},
   "source": [
    "Now, let us look into our chosen signal feature. First of all, we focus on the length of the chosen feature signal:"
   ]
  },
  {
   "cell_type": "code",
   "execution_count": 21,
   "id": "f05a7969-c69f-46e4-87bc-51d6ac0072df",
   "metadata": {},
   "outputs": [
    {
     "data": {
      "image/png": "[encoded data removed]",
      "text/plain": [
       "<Figure size 1080x360 with 1 Axes>"
      ]
     },
     "metadata": {},
     "output_type": "display_data"
    }
   ],
   "source": [
    "len_signal_list = []\n",
    "for i in range(len(X_signal_feature)):\n",
    "    len_signal_list.append(len(X_signal_feature[i]))\n",
    "\n",
    "plt.hist(len_signal_list, bins=len(len_signal_list)//10)\n",
    "plt.title(f'Histogram of the length of the univariate {signal_feature} signals')\n",
    "plt.show()"
   ]
  },
  {
   "cell_type": "markdown",
   "id": "8b4b7fe7-61af-4118-bb33-8a24a51c3afe",
   "metadata": {},
   "source": [
    "_Observation_: The length of each chosen feature signal is different!\n",
    "\n",
    "Let us plot a time series:"
   ]
  },
  {
   "cell_type": "code",
   "execution_count": 23,
   "id": "eff04b0d-4273-4561-9fb6-53f82c3c3dc7",
   "metadata": {},
   "outputs": [
    {
     "data": {
      "image/png": "[encoded data removed]",
      "text/plain": [
       "<Figure size 1080x360 with 1 Axes>"
      ]
     },
     "metadata": {},
     "output_type": "display_data"
    }
   ],
   "source": [
    "i = 0\n",
    "tt = np.arange(len(X_signal_feature[i])) / 100\n",
    "plt.plot(tt, X_signal_feature[i])\n",
    "plt.title(f'Chosen code : \"{code_list[i]}\". Chosen univariate feature: \"{signal_feature}\".')\n",
    "plt.xlabel(f'Time [s]')\n",
    "plt.ylabel(f'{signal_feature}')\n",
    "plt.show()"
   ]
  },
  {
   "cell_type": "markdown",
   "id": "2f84ed38-844f-42f1-aa23-761d73eb0714",
   "metadata": {},
   "source": [
    "*Back to [top](#top).*\n",
    "\n",
    "---\n",
    "## <a name='conclusion'>5) Conclusion</a>\n",
    "\n",
    "This example shows how to use `loadmydata` to handle the human locomotion data set. It contains 1,020 multivariate gait signals with 16 signal features (such as accelometries) and 14 metadata features (such as age)."
   ]
  },
  {
   "cell_type": "markdown",
   "id": "b1888ae1-077f-4cca-99f9-d5fc38aa9ad5",
   "metadata": {},
   "source": [
    "*Back to [top](#top).*\n",
    "\n",
    "---\n",
    "## <a name='authors'>6) Authors</a>\n",
    "\n",
    "This example notebook has been authored by [Sylvain W. Combettes](https://sylvaincom.github.io) and edited by [Charles Truong](https://charles.doffy.net)."
   ]
  },
  {
   "cell_type": "markdown",
   "id": "8e6f04c2-74fd-44f2-a971-2ca7b9894434",
   "metadata": {},
   "source": [
    "---\n",
    "_Back to [top](#top)._"
   ]
  }
 ],
 "metadata": {
  "kernelspec": {
   "display_name": "Python 3",
   "language": "python",
   "name": "python3"
  },
  "language_info": {
   "codemirror_mode": {
    "name": "ipython",
    "version": 3
   },
   "file_extension": ".py",
   "mimetype": "text/x-python",
   "name": "python",
   "nbconvert_exporter": "python",
   "pygments_lexer": "ipython3",
   "version": "3.8.8"
  },
  "toc-autonumbering": false
 },
 "nbformat": 4,
 "nbformat_minor": 5
}
